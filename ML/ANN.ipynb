{
  "nbformat": 4,
  "nbformat_minor": 0,
  "metadata": {
    "colab": {
      "provenance": []
    },
    "kernelspec": {
      "name": "python3",
      "display_name": "Python 3"
    },
    "language_info": {
      "name": "python"
    }
  },
  "cells": [
    {
      "cell_type": "code",
      "execution_count": null,
      "metadata": {
        "id": "7Ud-BZlAXW1d"
      },
      "outputs": [],
      "source": [
        "import tensorflow as tf\n",
        "from sklearn.datasets import load_iris\n",
        "from sklearn.model_selection import train_test_split\n",
        "from sklearn.preprocessing import StandardScaler"
      ]
    },
    {
      "cell_type": "code",
      "source": [
        "iris = load_iris()\n",
        "X, y = iris.data, iris.target"
      ],
      "metadata": {
        "id": "rZ4OmyBJXf2P"
      },
      "execution_count": null,
      "outputs": []
    },
    {
      "cell_type": "code",
      "source": [
        "X_train, X_test, y_train, y_test = train_test_split(X, y, test_size=0.2, random_state=42)\n"
      ],
      "metadata": {
        "id": "K-6GS7Z_YQPz"
      },
      "execution_count": null,
      "outputs": []
    },
    {
      "cell_type": "code",
      "source": [
        "scaler = StandardScaler()\n",
        "X_train_scaled = scaler.fit_transform(X_train)\n",
        "X_test_scaled = scaler.transform(X_test)\n"
      ],
      "metadata": {
        "id": "9dtU4II3Yg5L"
      },
      "execution_count": null,
      "outputs": []
    },
    {
      "cell_type": "code",
      "source": [
        "model = tf.keras.Sequential([\n",
        "    tf.keras.layers.Dense(64, activation='relu', input_shape=(4,)),\n",
        "    tf.keras.layers.Dense(64, activation='relu'),\n",
        "    tf.keras.layers.Dense(3, activation='softmax')\n",
        "])"
      ],
      "metadata": {
        "id": "PLH7ky1tYWyp"
      },
      "execution_count": null,
      "outputs": []
    },
    {
      "cell_type": "code",
      "source": [
        "model.compile(optimizer='adam',\n",
        "              loss='sparse_categorical_crossentropy',\n",
        "              metrics=['accuracy'])"
      ],
      "metadata": {
        "id": "QHgb7W9CYZUK"
      },
      "execution_count": null,
      "outputs": []
    },
    {
      "cell_type": "code",
      "source": [
        "model.fit(X_train_scaled, y_train, epochs=50, batch_size=32, validation_split=0.1)"
      ],
      "metadata": {
        "colab": {
          "base_uri": "https://localhost:8080/"
        },
        "id": "tej2zM9HYjrG",
        "outputId": "a8985eeb-ef88-4893-e9f5-bea90c161a6b"
      },
      "execution_count": null,
      "outputs": [
        {
          "output_type": "stream",
          "name": "stdout",
          "text": [
            "Epoch 1/50\n",
            "4/4 [==============================] - 1s 79ms/step - loss: 1.1353 - accuracy: 0.2130 - val_loss: 1.0125 - val_accuracy: 0.3333\n",
            "Epoch 2/50\n",
            "4/4 [==============================] - 0s 13ms/step - loss: 1.0007 - accuracy: 0.3519 - val_loss: 0.9290 - val_accuracy: 0.5000\n",
            "Epoch 3/50\n",
            "4/4 [==============================] - 0s 12ms/step - loss: 0.8940 - accuracy: 0.7500 - val_loss: 0.8561 - val_accuracy: 0.6667\n",
            "Epoch 4/50\n",
            "4/4 [==============================] - 0s 12ms/step - loss: 0.8049 - accuracy: 0.7963 - val_loss: 0.7928 - val_accuracy: 0.6667\n",
            "Epoch 5/50\n",
            "4/4 [==============================] - 0s 12ms/step - loss: 0.7262 - accuracy: 0.7963 - val_loss: 0.7362 - val_accuracy: 0.7500\n",
            "Epoch 6/50\n",
            "4/4 [==============================] - 0s 12ms/step - loss: 0.6621 - accuracy: 0.8056 - val_loss: 0.6847 - val_accuracy: 0.7500\n",
            "Epoch 7/50\n",
            "4/4 [==============================] - 0s 13ms/step - loss: 0.6064 - accuracy: 0.8056 - val_loss: 0.6376 - val_accuracy: 0.7500\n",
            "Epoch 8/50\n",
            "4/4 [==============================] - 0s 12ms/step - loss: 0.5569 - accuracy: 0.8056 - val_loss: 0.5967 - val_accuracy: 0.8333\n",
            "Epoch 9/50\n",
            "4/4 [==============================] - 0s 12ms/step - loss: 0.5128 - accuracy: 0.8056 - val_loss: 0.5612 - val_accuracy: 0.8333\n",
            "Epoch 10/50\n",
            "4/4 [==============================] - 0s 12ms/step - loss: 0.4765 - accuracy: 0.8148 - val_loss: 0.5289 - val_accuracy: 0.8333\n",
            "Epoch 11/50\n",
            "4/4 [==============================] - 0s 12ms/step - loss: 0.4443 - accuracy: 0.8241 - val_loss: 0.5008 - val_accuracy: 0.8333\n",
            "Epoch 12/50\n",
            "4/4 [==============================] - 0s 11ms/step - loss: 0.4153 - accuracy: 0.8241 - val_loss: 0.4767 - val_accuracy: 0.8333\n",
            "Epoch 13/50\n",
            "4/4 [==============================] - 0s 12ms/step - loss: 0.3912 - accuracy: 0.8148 - val_loss: 0.4568 - val_accuracy: 0.8333\n",
            "Epoch 14/50\n",
            "4/4 [==============================] - 0s 12ms/step - loss: 0.3701 - accuracy: 0.8241 - val_loss: 0.4398 - val_accuracy: 0.8333\n",
            "Epoch 15/50\n",
            "4/4 [==============================] - 0s 19ms/step - loss: 0.3521 - accuracy: 0.8241 - val_loss: 0.4265 - val_accuracy: 0.9167\n",
            "Epoch 16/50\n",
            "4/4 [==============================] - 0s 13ms/step - loss: 0.3362 - accuracy: 0.8333 - val_loss: 0.4142 - val_accuracy: 0.9167\n",
            "Epoch 17/50\n",
            "4/4 [==============================] - 0s 11ms/step - loss: 0.3226 - accuracy: 0.8333 - val_loss: 0.4011 - val_accuracy: 0.9167\n",
            "Epoch 18/50\n",
            "4/4 [==============================] - 0s 12ms/step - loss: 0.3100 - accuracy: 0.8426 - val_loss: 0.3888 - val_accuracy: 0.9167\n",
            "Epoch 19/50\n",
            "4/4 [==============================] - 0s 12ms/step - loss: 0.2993 - accuracy: 0.8426 - val_loss: 0.3770 - val_accuracy: 0.9167\n",
            "Epoch 20/50\n",
            "4/4 [==============================] - 0s 11ms/step - loss: 0.2884 - accuracy: 0.8519 - val_loss: 0.3682 - val_accuracy: 0.9167\n",
            "Epoch 21/50\n",
            "4/4 [==============================] - 0s 12ms/step - loss: 0.2789 - accuracy: 0.8611 - val_loss: 0.3597 - val_accuracy: 0.9167\n",
            "Epoch 22/50\n",
            "4/4 [==============================] - 0s 12ms/step - loss: 0.2701 - accuracy: 0.8796 - val_loss: 0.3511 - val_accuracy: 0.9167\n",
            "Epoch 23/50\n",
            "4/4 [==============================] - 0s 11ms/step - loss: 0.2610 - accuracy: 0.8796 - val_loss: 0.3458 - val_accuracy: 0.9167\n",
            "Epoch 24/50\n",
            "4/4 [==============================] - 0s 12ms/step - loss: 0.2522 - accuracy: 0.8889 - val_loss: 0.3401 - val_accuracy: 0.9167\n",
            "Epoch 25/50\n",
            "4/4 [==============================] - 0s 12ms/step - loss: 0.2445 - accuracy: 0.8889 - val_loss: 0.3385 - val_accuracy: 0.9167\n",
            "Epoch 26/50\n",
            "4/4 [==============================] - 0s 12ms/step - loss: 0.2377 - accuracy: 0.9074 - val_loss: 0.3328 - val_accuracy: 0.9167\n",
            "Epoch 27/50\n",
            "4/4 [==============================] - 0s 12ms/step - loss: 0.2299 - accuracy: 0.9352 - val_loss: 0.3230 - val_accuracy: 0.9167\n",
            "Epoch 28/50\n",
            "4/4 [==============================] - 0s 12ms/step - loss: 0.2216 - accuracy: 0.9444 - val_loss: 0.3182 - val_accuracy: 0.9167\n",
            "Epoch 29/50\n",
            "4/4 [==============================] - 0s 12ms/step - loss: 0.2152 - accuracy: 0.9444 - val_loss: 0.3118 - val_accuracy: 0.9167\n",
            "Epoch 30/50\n",
            "4/4 [==============================] - 0s 12ms/step - loss: 0.2095 - accuracy: 0.9537 - val_loss: 0.3089 - val_accuracy: 0.9167\n",
            "Epoch 31/50\n",
            "4/4 [==============================] - 0s 12ms/step - loss: 0.2013 - accuracy: 0.9537 - val_loss: 0.2952 - val_accuracy: 0.9167\n",
            "Epoch 32/50\n",
            "4/4 [==============================] - 0s 12ms/step - loss: 0.1953 - accuracy: 0.9537 - val_loss: 0.2829 - val_accuracy: 0.9167\n",
            "Epoch 33/50\n",
            "4/4 [==============================] - 0s 12ms/step - loss: 0.1884 - accuracy: 0.9537 - val_loss: 0.2757 - val_accuracy: 0.9167\n",
            "Epoch 34/50\n",
            "4/4 [==============================] - 0s 12ms/step - loss: 0.1833 - accuracy: 0.9537 - val_loss: 0.2696 - val_accuracy: 0.9167\n",
            "Epoch 35/50\n",
            "4/4 [==============================] - 0s 11ms/step - loss: 0.1771 - accuracy: 0.9630 - val_loss: 0.2714 - val_accuracy: 0.9167\n",
            "Epoch 36/50\n",
            "4/4 [==============================] - 0s 12ms/step - loss: 0.1711 - accuracy: 0.9537 - val_loss: 0.2682 - val_accuracy: 0.9167\n",
            "Epoch 37/50\n",
            "4/4 [==============================] - 0s 15ms/step - loss: 0.1674 - accuracy: 0.9537 - val_loss: 0.2561 - val_accuracy: 0.9167\n",
            "Epoch 38/50\n",
            "4/4 [==============================] - 0s 12ms/step - loss: 0.1605 - accuracy: 0.9630 - val_loss: 0.2581 - val_accuracy: 0.9167\n",
            "Epoch 39/50\n",
            "4/4 [==============================] - 0s 11ms/step - loss: 0.1550 - accuracy: 0.9630 - val_loss: 0.2584 - val_accuracy: 0.9167\n",
            "Epoch 40/50\n",
            "4/4 [==============================] - 0s 14ms/step - loss: 0.1508 - accuracy: 0.9630 - val_loss: 0.2576 - val_accuracy: 0.9167\n",
            "Epoch 41/50\n",
            "4/4 [==============================] - 0s 12ms/step - loss: 0.1451 - accuracy: 0.9630 - val_loss: 0.2482 - val_accuracy: 0.9167\n",
            "Epoch 42/50\n",
            "4/4 [==============================] - 0s 12ms/step - loss: 0.1422 - accuracy: 0.9537 - val_loss: 0.2398 - val_accuracy: 0.9167\n",
            "Epoch 43/50\n",
            "4/4 [==============================] - 0s 12ms/step - loss: 0.1381 - accuracy: 0.9630 - val_loss: 0.2398 - val_accuracy: 0.9167\n",
            "Epoch 44/50\n",
            "4/4 [==============================] - 0s 12ms/step - loss: 0.1341 - accuracy: 0.9630 - val_loss: 0.2453 - val_accuracy: 0.9167\n",
            "Epoch 45/50\n",
            "4/4 [==============================] - 0s 12ms/step - loss: 0.1297 - accuracy: 0.9537 - val_loss: 0.2461 - val_accuracy: 0.9167\n",
            "Epoch 46/50\n",
            "4/4 [==============================] - 0s 11ms/step - loss: 0.1250 - accuracy: 0.9537 - val_loss: 0.2544 - val_accuracy: 0.9167\n",
            "Epoch 47/50\n",
            "4/4 [==============================] - 0s 12ms/step - loss: 0.1208 - accuracy: 0.9630 - val_loss: 0.2649 - val_accuracy: 0.9167\n",
            "Epoch 48/50\n",
            "4/4 [==============================] - 0s 12ms/step - loss: 0.1179 - accuracy: 0.9630 - val_loss: 0.2707 - val_accuracy: 0.9167\n",
            "Epoch 49/50\n",
            "4/4 [==============================] - 0s 12ms/step - loss: 0.1154 - accuracy: 0.9537 - val_loss: 0.2684 - val_accuracy: 0.9167\n",
            "Epoch 50/50\n",
            "4/4 [==============================] - 0s 12ms/step - loss: 0.1126 - accuracy: 0.9630 - val_loss: 0.2563 - val_accuracy: 0.9167\n"
          ]
        },
        {
          "output_type": "execute_result",
          "data": {
            "text/plain": [
              "<keras.src.callbacks.History at 0x789f404a2230>"
            ]
          },
          "metadata": {},
          "execution_count": 7
        }
      ]
    },
    {
      "cell_type": "code",
      "source": [
        "loss, accuracy = model.evaluate(X_test_scaled, y_test)\n",
        "print(\"Test Accuracy:\", accuracy)"
      ],
      "metadata": {
        "id": "PbgE2eNUYwe7",
        "outputId": "678653cc-b338-4806-814a-9c816673ae2b",
        "colab": {
          "base_uri": "https://localhost:8080/"
        }
      },
      "execution_count": null,
      "outputs": [
        {
          "output_type": "stream",
          "name": "stdout",
          "text": [
            "1/1 [==============================] - 0s 26ms/step - loss: 0.0968 - accuracy: 0.9667\n",
            "Test Accuracy: 0.9666666388511658\n"
          ]
        }
      ]
    }
  ]
}